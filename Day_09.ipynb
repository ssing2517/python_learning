{
  "nbformat": 4,
  "nbformat_minor": 0,
  "metadata": {
    "colab": {
      "provenance": [],
      "include_colab_link": true
    },
    "kernelspec": {
      "name": "python3",
      "display_name": "Python 3"
    },
    "language_info": {
      "name": "python"
    }
  },
  "cells": [
    {
      "cell_type": "markdown",
      "metadata": {
        "id": "view-in-github",
        "colab_type": "text"
      },
      "source": [
        "<a href=\"https://colab.research.google.com/github/ssing2517/python_learning/blob/main/Day_09.ipynb\" target=\"_parent\"><img src=\"https://colab.research.google.com/assets/colab-badge.svg\" alt=\"Open In Colab\"/></a>"
      ]
    },
    {
      "cell_type": "markdown",
      "source": [
        "# **Functions - Basics**"
      ],
      "metadata": {
        "id": "rgC0hvtiJeGG"
      }
    },
    {
      "cell_type": "code",
      "source": [
        "# input, logic, output"
      ],
      "metadata": {
        "id": "nA80gC62Jjt5"
      },
      "execution_count": null,
      "outputs": []
    },
    {
      "cell_type": "code",
      "source": [
        "print(\"Hello David!\")"
      ],
      "metadata": {
        "colab": {
          "base_uri": "https://localhost:8080/"
        },
        "id": "FhwLcQXJJvCL",
        "outputId": "05e9aa81-a04e-4699-e081-e8eaa044aa22"
      },
      "execution_count": null,
      "outputs": [
        {
          "output_type": "stream",
          "name": "stdout",
          "text": [
            "Hello David!\n"
          ]
        }
      ]
    },
    {
      "cell_type": "markdown",
      "source": [
        "# **1. Defining a Function**"
      ],
      "metadata": {
        "id": "nulNGfLbJ5pX"
      }
    },
    {
      "cell_type": "code",
      "source": [
        "def hello():\n",
        "  print(\"Hello world!\")"
      ],
      "metadata": {
        "id": "MVz1-eAiJ1K7"
      },
      "execution_count": null,
      "outputs": []
    },
    {
      "cell_type": "markdown",
      "source": [
        "# **2. Calling a Function**"
      ],
      "metadata": {
        "id": "o5P8XXhcKZgp"
      }
    },
    {
      "cell_type": "code",
      "source": [
        "hello()"
      ],
      "metadata": {
        "colab": {
          "base_uri": "https://localhost:8080/"
        },
        "id": "yQqskRvpJ3xE",
        "outputId": "c1466364-7790-450e-cf9e-6044881c969b"
      },
      "execution_count": null,
      "outputs": [
        {
          "output_type": "stream",
          "name": "stdout",
          "text": [
            "Hello world!\n"
          ]
        }
      ]
    },
    {
      "cell_type": "code",
      "source": [
        "# input - inside braces - no\n",
        "# logic - print\n",
        "# output - Hello world"
      ],
      "metadata": {
        "id": "CxJhLfB2KN1C"
      },
      "execution_count": null,
      "outputs": []
    },
    {
      "cell_type": "markdown",
      "source": [
        "# **3. Function with Parameters / Params**"
      ],
      "metadata": {
        "id": "51sAy2m8K38S"
      }
    },
    {
      "cell_type": "code",
      "source": [
        "def hello(name):\n",
        "  print(f\"Hello {name}!\")"
      ],
      "metadata": {
        "id": "IzA__eC0KjiB"
      },
      "execution_count": null,
      "outputs": []
    },
    {
      "cell_type": "code",
      "source": [
        "hello(\"Rajesh\")"
      ],
      "metadata": {
        "colab": {
          "base_uri": "https://localhost:8080/"
        },
        "id": "kr9Vn9_iKvkP",
        "outputId": "f4cc280a-372c-430a-e625-251e62f52b14"
      },
      "execution_count": null,
      "outputs": [
        {
          "output_type": "stream",
          "name": "stdout",
          "text": [
            "Hello Rajesh!\n"
          ]
        }
      ]
    },
    {
      "cell_type": "markdown",
      "source": [
        "# **F Strings**"
      ],
      "metadata": {
        "id": "IYxpk8IYLl5d"
      }
    },
    {
      "cell_type": "code",
      "source": [
        "country = \"Australia\"\n",
        "capital = \"Canberra\"\n",
        "print(f\"{capital} is the capital city of {country}\")"
      ],
      "metadata": {
        "colab": {
          "base_uri": "https://localhost:8080/"
        },
        "id": "iGmBjCnCLAKf",
        "outputId": "5a28ad1d-0972-4cba-913e-ea044a2edccc"
      },
      "execution_count": null,
      "outputs": [
        {
          "output_type": "stream",
          "name": "stdout",
          "text": [
            "Canberra is the capital city of Australia\n"
          ]
        }
      ]
    },
    {
      "cell_type": "markdown",
      "source": [
        "# **4. Function with Return value**"
      ],
      "metadata": {
        "id": "JDRrKtwyMPX-"
      }
    },
    {
      "cell_type": "code",
      "source": [
        "# two numbers = add them\n",
        "def add_numbers(x, y):\n",
        "  return x+y"
      ],
      "metadata": {
        "id": "hIS_APMELrz0"
      },
      "execution_count": null,
      "outputs": []
    },
    {
      "cell_type": "code",
      "source": [
        "add_numbers(5, 6)"
      ],
      "metadata": {
        "colab": {
          "base_uri": "https://localhost:8080/"
        },
        "id": "iZeByoWqL7dq",
        "outputId": "d3d0c022-4e18-4740-b52b-a577931f3d4f"
      },
      "execution_count": null,
      "outputs": [
        {
          "output_type": "execute_result",
          "data": {
            "text/plain": [
              "11"
            ]
          },
          "metadata": {},
          "execution_count": 10
        }
      ]
    },
    {
      "cell_type": "code",
      "source": [
        "v = add_numbers(5, 6)"
      ],
      "metadata": {
        "id": "n2gabRqEL9kw"
      },
      "execution_count": null,
      "outputs": []
    },
    {
      "cell_type": "code",
      "source": [
        "v"
      ],
      "metadata": {
        "colab": {
          "base_uri": "https://localhost:8080/"
        },
        "id": "ms_fzHgNMDwz",
        "outputId": "d774e2cc-58aa-460e-c308-7429df81d724"
      },
      "execution_count": null,
      "outputs": [
        {
          "output_type": "execute_result",
          "data": {
            "text/plain": [
              "11"
            ]
          },
          "metadata": {},
          "execution_count": 12
        }
      ]
    },
    {
      "cell_type": "markdown",
      "source": [
        "# **5. Default Params**"
      ],
      "metadata": {
        "id": "LcyqYYXNVtrf"
      }
    },
    {
      "cell_type": "code",
      "source": [
        "# def hello(name):\n",
        "#   print(f\"Hello {name}!\")\n",
        "\n",
        "def hello(name=\"Guest\"):\n",
        "  print(f\"Hello {name}!\")"
      ],
      "metadata": {
        "id": "GVkhC2HUVxsi"
      },
      "execution_count": null,
      "outputs": []
    },
    {
      "cell_type": "code",
      "source": [
        "hello()"
      ],
      "metadata": {
        "colab": {
          "base_uri": "https://localhost:8080/"
        },
        "id": "MddcMnJxV1EB",
        "outputId": "3aa6a236-b650-4a68-9fbb-7f46d7e35a36"
      },
      "execution_count": null,
      "outputs": [
        {
          "output_type": "stream",
          "name": "stdout",
          "text": [
            "Hello Guest!\n"
          ]
        }
      ]
    },
    {
      "cell_type": "code",
      "source": [
        "hello(\"Raju\")"
      ],
      "metadata": {
        "colab": {
          "base_uri": "https://localhost:8080/"
        },
        "id": "ziJqMACMWDuw",
        "outputId": "0d701ccb-379e-4f81-d7bf-d8f993c54136"
      },
      "execution_count": null,
      "outputs": [
        {
          "output_type": "stream",
          "name": "stdout",
          "text": [
            "Hello Raju!\n"
          ]
        }
      ]
    },
    {
      "cell_type": "markdown",
      "source": [
        "# **6. Keyword Arguments**"
      ],
      "metadata": {
        "id": "PS-f288NWQq1"
      }
    },
    {
      "cell_type": "code",
      "source": [
        "# two numbers = add them\n",
        "def add_numbers(x=10, y=10):\n",
        "  return x+y"
      ],
      "metadata": {
        "id": "l9MC5bR2WP3Y"
      },
      "execution_count": null,
      "outputs": []
    },
    {
      "cell_type": "code",
      "source": [
        "add_numbers()"
      ],
      "metadata": {
        "colab": {
          "base_uri": "https://localhost:8080/"
        },
        "id": "dC16i6yuWZPs",
        "outputId": "35028782-20c3-481f-d199-791f3513bf77"
      },
      "execution_count": null,
      "outputs": [
        {
          "output_type": "execute_result",
          "data": {
            "text/plain": [
              "20"
            ]
          },
          "metadata": {},
          "execution_count": 22
        }
      ]
    },
    {
      "cell_type": "markdown",
      "source": [
        "# **7. Scope and Global Variables**"
      ],
      "metadata": {
        "id": "W99-jIeRWh1D"
      }
    },
    {
      "cell_type": "code",
      "source": [
        "def test(x=10):\n",
        "  print(x)\n"
      ],
      "metadata": {
        "id": "h3LA63a3WmHm"
      },
      "execution_count": null,
      "outputs": []
    },
    {
      "cell_type": "code",
      "source": [
        "test(11)"
      ],
      "metadata": {
        "colab": {
          "base_uri": "https://localhost:8080/"
        },
        "id": "IjX3tJrMWsJ0",
        "outputId": "02471853-846c-4491-a0c0-f534521b64ae"
      },
      "execution_count": null,
      "outputs": [
        {
          "output_type": "stream",
          "name": "stdout",
          "text": [
            "11\n"
          ]
        }
      ]
    },
    {
      "cell_type": "code",
      "source": [
        "# global var = defined outside the function\n",
        "x = 100\n",
        "\n",
        "def test(y):\n",
        "  global x\n",
        "  print(x, y)\n",
        "\n",
        "test(10)"
      ],
      "metadata": {
        "colab": {
          "base_uri": "https://localhost:8080/"
        },
        "id": "yCCqrfl7W6kR",
        "outputId": "d0201418-288f-4fdd-9e1b-83e9d53197db"
      },
      "execution_count": null,
      "outputs": [
        {
          "output_type": "stream",
          "name": "stdout",
          "text": [
            "100 10\n"
          ]
        }
      ]
    },
    {
      "cell_type": "code",
      "source": [
        "n = 23\n",
        "\n",
        "def test(n):\n",
        "  n = 21\n",
        "  print(n)"
      ],
      "metadata": {
        "id": "A7RhC_ExW6gz"
      },
      "execution_count": null,
      "outputs": []
    },
    {
      "cell_type": "code",
      "source": [
        "test(18)"
      ],
      "metadata": {
        "colab": {
          "base_uri": "https://localhost:8080/"
        },
        "id": "j4QTQ57WWtn-",
        "outputId": "0371cfa9-54cb-4b0e-908d-8d74d40fa14b"
      },
      "execution_count": null,
      "outputs": [
        {
          "output_type": "stream",
          "name": "stdout",
          "text": [
            "21\n"
          ]
        }
      ]
    },
    {
      "cell_type": "markdown",
      "source": [
        "# **8. Nested Functions**"
      ],
      "metadata": {
        "id": "j1rJGnOsX__c"
      }
    },
    {
      "cell_type": "code",
      "source": [
        "def hello(name):\n",
        "  print(f\"Hello {name}\")"
      ],
      "metadata": {
        "id": "QVH4wB6RX93K"
      },
      "execution_count": null,
      "outputs": []
    },
    {
      "cell_type": "code",
      "source": [
        "def fav_city(city_name, name):\n",
        "  hello(name)\n",
        "  print(f\"Welcome to {city_name}!\")"
      ],
      "metadata": {
        "id": "_GOuVRxpX9zw"
      },
      "execution_count": null,
      "outputs": []
    },
    {
      "cell_type": "code",
      "source": [
        "fav_city(\"Mumbai\", \"David\")"
      ],
      "metadata": {
        "colab": {
          "base_uri": "https://localhost:8080/"
        },
        "id": "IQlL_tN-X9rS",
        "outputId": "f49d39f6-0ca9-4686-a384-be99f47598e1"
      },
      "execution_count": null,
      "outputs": [
        {
          "output_type": "stream",
          "name": "stdout",
          "text": [
            "Hello David\n",
            "Welcome to Mumbai!\n"
          ]
        }
      ]
    }
  ]
}