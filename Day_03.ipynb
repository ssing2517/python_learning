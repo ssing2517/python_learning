{
  "nbformat": 4,
  "nbformat_minor": 0,
  "metadata": {
    "colab": {
      "provenance": [],
      "include_colab_link": true
    },
    "kernelspec": {
      "name": "python3",
      "display_name": "Python 3"
    },
    "language_info": {
      "name": "python"
    }
  },
  "cells": [
    {
      "cell_type": "markdown",
      "metadata": {
        "id": "view-in-github",
        "colab_type": "text"
      },
      "source": [
        "<a href=\"https://colab.research.google.com/github/ssing2517/python_learning/blob/main/Day_03.ipynb\" target=\"_parent\"><img src=\"https://colab.research.google.com/assets/colab-badge.svg\" alt=\"Open In Colab\"/></a>"
      ]
    },
    {
      "cell_type": "code",
      "execution_count": null,
      "metadata": {
        "id": "QhZJYPeUWtwU"
      },
      "outputs": [],
      "source": [
        "ticket_price = 90\n",
        "wallet_size = 100"
      ]
    },
    {
      "cell_type": "code",
      "source": [
        "# Ctrl + Enter (run)\n",
        "# Comparision <, >, <=, >=, ==, !="
      ],
      "metadata": {
        "id": "3ynzBR3zXfLM"
      },
      "execution_count": null,
      "outputs": []
    },
    {
      "cell_type": "code",
      "source": [
        "if ticket_price <= wallet_size:\n",
        "  print(\"Hurray, i can go to this movie!\")\n",
        "else:\n",
        "  print(\"Sad, i don't have enough purse\")"
      ],
      "metadata": {
        "colab": {
          "base_uri": "https://localhost:8080/"
        },
        "id": "Pajuk1T8XfOr",
        "outputId": "8f9eb08a-065e-4dac-b700-06dadee6a473"
      },
      "execution_count": null,
      "outputs": [
        {
          "output_type": "stream",
          "name": "stdout",
          "text": [
            "Hurray, i can go to this movie!\n"
          ]
        }
      ]
    },
    {
      "cell_type": "code",
      "source": [
        "# if (condition):\n",
        "#   # to do\n",
        "# else:\n",
        "#   # to do"
      ],
      "metadata": {
        "id": "uxjSku40XfUP"
      },
      "execution_count": null,
      "outputs": []
    },
    {
      "cell_type": "code",
      "source": [
        "marks = 85\n",
        "\n",
        "# 90+ A+\n",
        "# 80+ A\n",
        "# 70+ B+\n",
        "# 60+ B\n",
        "# 60- Fail\n",
        "\n",
        "# if else elif"
      ],
      "metadata": {
        "id": "zjDNyp_SXfXc"
      },
      "execution_count": null,
      "outputs": []
    },
    {
      "cell_type": "code",
      "source": [
        "marks = 40\n",
        "\n",
        "if (marks >= 90):\n",
        "  print(\"A+\")\n",
        "elif (marks >= 80):\n",
        "  print(\"A\")\n",
        "elif (marks >= 70):\n",
        "  print(\"B+\")\n",
        "elif (marks >= 60):\n",
        "  print(\"B\")\n",
        "else:\n",
        "  print(\"Fail\")"
      ],
      "metadata": {
        "colab": {
          "base_uri": "https://localhost:8080/"
        },
        "id": "4votN9jKZF_f",
        "outputId": "d998e082-f51c-45b7-c364-571c1b7a39d2"
      },
      "execution_count": null,
      "outputs": [
        {
          "output_type": "stream",
          "name": "stdout",
          "text": [
            "Fail\n"
          ]
        }
      ]
    },
    {
      "cell_type": "code",
      "source": [],
      "metadata": {
        "id": "BGB283gvZF8N"
      },
      "execution_count": null,
      "outputs": []
    },
    {
      "cell_type": "code",
      "source": [],
      "metadata": {
        "id": "yv1E1tY-ZF5A"
      },
      "execution_count": null,
      "outputs": []
    },
    {
      "cell_type": "code",
      "source": [],
      "metadata": {
        "id": "Bt8y_MWEZF2U"
      },
      "execution_count": null,
      "outputs": []
    },
    {
      "cell_type": "code",
      "source": [],
      "metadata": {
        "id": "FHlRM-boZFzl"
      },
      "execution_count": null,
      "outputs": []
    },
    {
      "cell_type": "code",
      "source": [],
      "metadata": {
        "id": "rheOZpa1ZFwv"
      },
      "execution_count": null,
      "outputs": []
    },
    {
      "cell_type": "code",
      "source": [],
      "metadata": {
        "id": "-Gf9Rva7ZFuD"
      },
      "execution_count": null,
      "outputs": []
    }
  ]
}