{
  "nbformat": 4,
  "nbformat_minor": 0,
  "metadata": {
    "colab": {
      "provenance": [],
      "include_colab_link": true
    },
    "kernelspec": {
      "name": "python3",
      "display_name": "Python 3"
    },
    "language_info": {
      "name": "python"
    }
  },
  "cells": [
    {
      "cell_type": "markdown",
      "metadata": {
        "id": "view-in-github",
        "colab_type": "text"
      },
      "source": [
        "<a href=\"https://colab.research.google.com/github/ssing2517/python_learning/blob/main/Day_05.ipynb\" target=\"_parent\"><img src=\"https://colab.research.google.com/assets/colab-badge.svg\" alt=\"Open In Colab\"/></a>"
      ]
    },
    {
      "cell_type": "markdown",
      "source": [
        "# **Creating a List**"
      ],
      "metadata": {
        "id": "RxgaaT_hC1lv"
      }
    },
    {
      "cell_type": "code",
      "source": [
        "items = []"
      ],
      "metadata": {
        "id": "mS6o2_vRC3Rc"
      },
      "execution_count": null,
      "outputs": []
    },
    {
      "cell_type": "code",
      "source": [
        "items = [\"speaker\", \"mic\", \"mobile\", \"laptop\"]"
      ],
      "metadata": {
        "id": "5pXfNUQlDJgR"
      },
      "execution_count": null,
      "outputs": []
    },
    {
      "cell_type": "markdown",
      "source": [
        "# **Accessing Elements**"
      ],
      "metadata": {
        "id": "Lb8rbAgEDaKq"
      }
    },
    {
      "cell_type": "code",
      "source": [
        "items[2]"
      ],
      "metadata": {
        "colab": {
          "base_uri": "https://localhost:8080/",
          "height": 36
        },
        "id": "7oqY68tgDWC0",
        "outputId": "979b0a5b-0fdd-422a-d5f4-9fd14a62e4e3"
      },
      "execution_count": null,
      "outputs": [
        {
          "output_type": "execute_result",
          "data": {
            "text/plain": [
              "'mobile'"
            ],
            "application/vnd.google.colaboratory.intrinsic+json": {
              "type": "string"
            }
          },
          "metadata": {},
          "execution_count": 5
        }
      ]
    },
    {
      "cell_type": "code",
      "source": [
        "print(items[2])"
      ],
      "metadata": {
        "colab": {
          "base_uri": "https://localhost:8080/"
        },
        "id": "29wFuDzGDmS4",
        "outputId": "e68d976a-f790-4452-c06c-a49faac45d58"
      },
      "execution_count": null,
      "outputs": [
        {
          "output_type": "stream",
          "name": "stdout",
          "text": [
            "mobile\n"
          ]
        }
      ]
    },
    {
      "cell_type": "markdown",
      "source": [
        "# **Negative Indexing**"
      ],
      "metadata": {
        "id": "QeNztiekD5ST"
      }
    },
    {
      "cell_type": "code",
      "source": [
        "items[-1]"
      ],
      "metadata": {
        "colab": {
          "base_uri": "https://localhost:8080/",
          "height": 36
        },
        "id": "LTheuZTgDrEh",
        "outputId": "7fb7cd4f-d505-45a9-d0a6-b55069a85a9b"
      },
      "execution_count": null,
      "outputs": [
        {
          "output_type": "execute_result",
          "data": {
            "text/plain": [
              "'laptop'"
            ],
            "application/vnd.google.colaboratory.intrinsic+json": {
              "type": "string"
            }
          },
          "metadata": {},
          "execution_count": 11
        }
      ]
    },
    {
      "cell_type": "markdown",
      "source": [
        "# **Slicing a List**"
      ],
      "metadata": {
        "id": "e00CDAyxEEsS"
      }
    },
    {
      "cell_type": "code",
      "source": [
        "items[0:3]"
      ],
      "metadata": {
        "colab": {
          "base_uri": "https://localhost:8080/"
        },
        "id": "Z-G_LkxbEIeP",
        "outputId": "db560063-3b06-424c-ce91-7c00e7ea6f2a"
      },
      "execution_count": null,
      "outputs": [
        {
          "output_type": "execute_result",
          "data": {
            "text/plain": [
              "['speaker', 'mic', 'mobile']"
            ]
          },
          "metadata": {},
          "execution_count": 13
        }
      ]
    },
    {
      "cell_type": "code",
      "source": [
        "items"
      ],
      "metadata": {
        "colab": {
          "base_uri": "https://localhost:8080/"
        },
        "id": "Mys-pdBTEVlU",
        "outputId": "f7d5a622-93fa-4816-e1a4-29e432b20537"
      },
      "execution_count": null,
      "outputs": [
        {
          "output_type": "execute_result",
          "data": {
            "text/plain": [
              "['speaker', 'mic', 'mobile', 'laptop']"
            ]
          },
          "metadata": {},
          "execution_count": 14
        }
      ]
    },
    {
      "cell_type": "code",
      "source": [
        "items[2:4]"
      ],
      "metadata": {
        "colab": {
          "base_uri": "https://localhost:8080/"
        },
        "id": "hnOZg8M6EYQO",
        "outputId": "410b2261-cc8c-43eb-d091-9a631046106b"
      },
      "execution_count": null,
      "outputs": [
        {
          "output_type": "execute_result",
          "data": {
            "text/plain": [
              "['mobile', 'laptop']"
            ]
          },
          "metadata": {},
          "execution_count": 17
        }
      ]
    },
    {
      "cell_type": "code",
      "source": [
        "items[2:]"
      ],
      "metadata": {
        "colab": {
          "base_uri": "https://localhost:8080/"
        },
        "id": "xis8MWbkEd5T",
        "outputId": "5d8bacb2-ba71-4920-b88e-48d0370958f5"
      },
      "execution_count": null,
      "outputs": [
        {
          "output_type": "execute_result",
          "data": {
            "text/plain": [
              "['mobile', 'laptop']"
            ]
          },
          "metadata": {},
          "execution_count": 21
        }
      ]
    },
    {
      "cell_type": "markdown",
      "source": [
        "# **Modifying elements in a List**"
      ],
      "metadata": {
        "id": "7Nv6mPahEoZk"
      }
    },
    {
      "cell_type": "code",
      "source": [
        "items"
      ],
      "metadata": {
        "colab": {
          "base_uri": "https://localhost:8080/"
        },
        "id": "-hh01lP1ErD3",
        "outputId": "fd64c307-0044-4aac-f8a1-200966bdab13"
      },
      "execution_count": null,
      "outputs": [
        {
          "output_type": "execute_result",
          "data": {
            "text/plain": [
              "['speaker', 'mic', 'mobile', 'laptop']"
            ]
          },
          "metadata": {},
          "execution_count": 22
        }
      ]
    },
    {
      "cell_type": "code",
      "source": [
        "items[3] = \"pc\""
      ],
      "metadata": {
        "id": "d7odCZOHEsKK"
      },
      "execution_count": null,
      "outputs": []
    },
    {
      "cell_type": "code",
      "source": [
        "items"
      ],
      "metadata": {
        "colab": {
          "base_uri": "https://localhost:8080/"
        },
        "id": "Vzs37smEEtPD",
        "outputId": "ef0663a9-087c-40a7-e590-40deabd74048"
      },
      "execution_count": null,
      "outputs": [
        {
          "output_type": "execute_result",
          "data": {
            "text/plain": [
              "['speaker', 'mic', 'mobile', 'pc']"
            ]
          },
          "metadata": {},
          "execution_count": 25
        }
      ]
    },
    {
      "cell_type": "markdown",
      "source": [
        "# **Adding Elements to a List**"
      ],
      "metadata": {
        "id": "jteZqsF-E8UD"
      }
    },
    {
      "cell_type": "code",
      "source": [
        "items"
      ],
      "metadata": {
        "colab": {
          "base_uri": "https://localhost:8080/"
        },
        "id": "6fNNkGnZE7Rp",
        "outputId": "04c18aed-83e5-4b9b-94ad-b7aa7f606452"
      },
      "execution_count": null,
      "outputs": [
        {
          "output_type": "execute_result",
          "data": {
            "text/plain": [
              "['speaker', 'mic', 'mobile', 'pc']"
            ]
          },
          "metadata": {},
          "execution_count": 26
        }
      ]
    },
    {
      "cell_type": "code",
      "source": [
        "items.append(\"charger\")"
      ],
      "metadata": {
        "id": "6JkrC6qjEtLr"
      },
      "execution_count": null,
      "outputs": []
    },
    {
      "cell_type": "code",
      "source": [
        "items"
      ],
      "metadata": {
        "colab": {
          "base_uri": "https://localhost:8080/"
        },
        "id": "bocX5YBiEtIt",
        "outputId": "952ea4b2-2252-48e2-e643-c7124209e68c"
      },
      "execution_count": null,
      "outputs": [
        {
          "output_type": "execute_result",
          "data": {
            "text/plain": [
              "['speaker', 'mic', 'mobile', 'pc', 'charger']"
            ]
          },
          "metadata": {},
          "execution_count": 28
        }
      ]
    },
    {
      "cell_type": "code",
      "source": [
        "items.append(\"camera\")"
      ],
      "metadata": {
        "id": "Wz793uqzFIbO"
      },
      "execution_count": null,
      "outputs": []
    },
    {
      "cell_type": "code",
      "source": [
        "items"
      ],
      "metadata": {
        "colab": {
          "base_uri": "https://localhost:8080/"
        },
        "id": "xJLw9BtzFMiK",
        "outputId": "cbfdc723-e899-4144-a0fd-2b3807378898"
      },
      "execution_count": null,
      "outputs": [
        {
          "output_type": "execute_result",
          "data": {
            "text/plain": [
              "['speaker', 'mic', 'mobile', 'pc', 'charger', 'camera']"
            ]
          },
          "metadata": {},
          "execution_count": 30
        }
      ]
    },
    {
      "cell_type": "markdown",
      "source": [
        "# **Remove elements**"
      ],
      "metadata": {
        "id": "WyXDFAP1FQrj"
      }
    },
    {
      "cell_type": "code",
      "source": [
        "items.remove(\"camera\")"
      ],
      "metadata": {
        "id": "SgaK4twgFM9J"
      },
      "execution_count": null,
      "outputs": []
    },
    {
      "cell_type": "code",
      "source": [
        "items"
      ],
      "metadata": {
        "colab": {
          "base_uri": "https://localhost:8080/"
        },
        "id": "wA3MpTEbFVd6",
        "outputId": "135b554c-105e-4110-b045-e489e4e71d8f"
      },
      "execution_count": null,
      "outputs": [
        {
          "output_type": "execute_result",
          "data": {
            "text/plain": [
              "['speaker', 'mic', 'mobile', 'pc', 'charger']"
            ]
          },
          "metadata": {},
          "execution_count": 32
        }
      ]
    },
    {
      "cell_type": "code",
      "source": [
        "del items[-1]"
      ],
      "metadata": {
        "id": "4HR3NeOsFWJM"
      },
      "execution_count": null,
      "outputs": []
    },
    {
      "cell_type": "code",
      "source": [
        "items"
      ],
      "metadata": {
        "colab": {
          "base_uri": "https://localhost:8080/"
        },
        "id": "EGODvnk1Fap5",
        "outputId": "61da9c90-c030-4748-e089-78d7913887b4"
      },
      "execution_count": null,
      "outputs": [
        {
          "output_type": "execute_result",
          "data": {
            "text/plain": [
              "['speaker', 'mic', 'mobile', 'pc']"
            ]
          },
          "metadata": {},
          "execution_count": 34
        }
      ]
    },
    {
      "cell_type": "code",
      "source": [
        "items.clear()"
      ],
      "metadata": {
        "id": "pmi8zrfFFbV0"
      },
      "execution_count": null,
      "outputs": []
    },
    {
      "cell_type": "code",
      "source": [
        "items"
      ],
      "metadata": {
        "colab": {
          "base_uri": "https://localhost:8080/"
        },
        "id": "C86KPEW-Fe4o",
        "outputId": "e7c8bb63-d074-4e40-edd0-6d65a125cc37"
      },
      "execution_count": null,
      "outputs": [
        {
          "output_type": "execute_result",
          "data": {
            "text/plain": [
              "[]"
            ]
          },
          "metadata": {},
          "execution_count": 36
        }
      ]
    },
    {
      "cell_type": "code",
      "source": [
        "items = ['speaker', 'mic', 'mobile', 'pc', 'charger']"
      ],
      "metadata": {
        "id": "F5sxECB9Ffwo"
      },
      "execution_count": null,
      "outputs": []
    },
    {
      "cell_type": "markdown",
      "source": [
        "# **Checking for existense**"
      ],
      "metadata": {
        "id": "nqi-9YbBFksm"
      }
    },
    {
      "cell_type": "code",
      "source": [
        "# are earbuds in the list?\n",
        "print(\"earbuds\" in items)"
      ],
      "metadata": {
        "colab": {
          "base_uri": "https://localhost:8080/"
        },
        "id": "_LEWXtEyFjaN",
        "outputId": "a47afbd5-bd72-4439-9213-ceda3b35ce34"
      },
      "execution_count": null,
      "outputs": [
        {
          "output_type": "stream",
          "name": "stdout",
          "text": [
            "False\n"
          ]
        }
      ]
    },
    {
      "cell_type": "markdown",
      "source": [
        "# **Length of a List**"
      ],
      "metadata": {
        "id": "6WTerFuCGEQe"
      }
    },
    {
      "cell_type": "code",
      "source": [
        "items"
      ],
      "metadata": {
        "colab": {
          "base_uri": "https://localhost:8080/"
        },
        "id": "QFgHKmeKGAK8",
        "outputId": "1fa50319-5ad8-43e0-d652-5bcc7e9d7f7a"
      },
      "execution_count": null,
      "outputs": [
        {
          "output_type": "execute_result",
          "data": {
            "text/plain": [
              "['speaker', 'mic', 'mobile', 'pc', 'charger']"
            ]
          },
          "metadata": {},
          "execution_count": 41
        }
      ]
    },
    {
      "cell_type": "code",
      "source": [
        "len(items)"
      ],
      "metadata": {
        "colab": {
          "base_uri": "https://localhost:8080/"
        },
        "id": "ENBIeCVVGHzW",
        "outputId": "4750b526-05d2-4359-cda5-1a2b5a2bd449"
      },
      "execution_count": null,
      "outputs": [
        {
          "output_type": "execute_result",
          "data": {
            "text/plain": [
              "5"
            ]
          },
          "metadata": {},
          "execution_count": 42
        }
      ]
    },
    {
      "cell_type": "markdown",
      "source": [
        "# **List comprehension**"
      ],
      "metadata": {
        "id": "89RkZC2bGS_F"
      }
    },
    {
      "cell_type": "code",
      "source": [
        "scores = [70, 80, 90, 95]"
      ],
      "metadata": {
        "id": "iUcS_xD5GHv1"
      },
      "execution_count": null,
      "outputs": []
    },
    {
      "cell_type": "code",
      "source": [
        "for i in scores:\n",
        "  print(i/2)"
      ],
      "metadata": {
        "colab": {
          "base_uri": "https://localhost:8080/"
        },
        "id": "HVRcUdM6GHtR",
        "outputId": "50688f8c-5dc1-4c0a-e05b-1418a6797902"
      },
      "execution_count": null,
      "outputs": [
        {
          "output_type": "stream",
          "name": "stdout",
          "text": [
            "35.0\n",
            "40.0\n",
            "45.0\n",
            "47.5\n"
          ]
        }
      ]
    },
    {
      "cell_type": "code",
      "source": [
        "[i/2 for i in scores]"
      ],
      "metadata": {
        "colab": {
          "base_uri": "https://localhost:8080/"
        },
        "id": "WouwhJkzGHqY",
        "outputId": "4107043d-8e77-4e6d-d8fe-413cb1cc06af"
      },
      "execution_count": null,
      "outputs": [
        {
          "output_type": "execute_result",
          "data": {
            "text/plain": [
              "[35.0, 40.0, 45.0, 47.5]"
            ]
          },
          "metadata": {},
          "execution_count": 46
        }
      ]
    },
    {
      "cell_type": "code",
      "source": [],
      "metadata": {
        "id": "vHKrNqsiGHn2"
      },
      "execution_count": null,
      "outputs": []
    },
    {
      "cell_type": "code",
      "source": [],
      "metadata": {
        "id": "glCssqOOGHk6"
      },
      "execution_count": null,
      "outputs": []
    }
  ]
}