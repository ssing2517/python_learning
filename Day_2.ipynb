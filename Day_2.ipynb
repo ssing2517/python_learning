{
  "nbformat": 4,
  "nbformat_minor": 0,
  "metadata": {
    "colab": {
      "provenance": [],
      "authorship_tag": "ABX9TyOWvSS5kNXpwgXsKFg2PUhj",
      "include_colab_link": true
    },
    "kernelspec": {
      "name": "python3",
      "display_name": "Python 3"
    },
    "language_info": {
      "name": "python"
    }
  },
  "cells": [
    {
      "cell_type": "markdown",
      "metadata": {
        "id": "view-in-github",
        "colab_type": "text"
      },
      "source": [
        "<a href=\"https://colab.research.google.com/github/ssing2517/python_learning/blob/main/Day_2.ipynb\" target=\"_parent\"><img src=\"https://colab.research.google.com/assets/colab-badge.svg\" alt=\"Open In Colab\"/></a>"
      ]
    },
    {
      "cell_type": "code",
      "execution_count": null,
      "metadata": {
        "id": "fkgCFitC9ACS"
      },
      "outputs": [],
      "source": [
        "checklist=[\"Grocery Shopping\",\"Pay Bills\",\"Prepare Breakfast\",\"Take Bath\",\"Prayer\",\"Lunch\",\"Power Nap\"]"
      ]
    },
    {
      "cell_type": "code",
      "source": [
        "completed_task=[]\n",
        "incomplete_task=[]"
      ],
      "metadata": {
        "id": "x4X1r276HfAC"
      },
      "execution_count": null,
      "outputs": []
    },
    {
      "cell_type": "code",
      "source": [
        "completed_task=[\"Prayer\",\"take bath\"]"
      ],
      "metadata": {
        "id": "Qt2XeanTIOhL"
      },
      "execution_count": null,
      "outputs": []
    },
    {
      "cell_type": "code",
      "source": [
        "for task in checklist:\n",
        "  if task in completed_task:\n",
        "    pass\n",
        "  else:\n",
        "    incomplete_task.append(task)"
      ],
      "metadata": {
        "id": "_FFNN1ZkHNKM"
      },
      "execution_count": null,
      "outputs": []
    },
    {
      "cell_type": "code",
      "source": [
        "print(\"completed_task:\",completed_task)\n",
        "print(\"incompleted_task:\",incomplete_task)"
      ],
      "metadata": {
        "colab": {
          "base_uri": "https://localhost:8080/"
        },
        "id": "GK2z06CdHnoG",
        "outputId": "0464a12b-8594-4542-c236-e78b97d4402c"
      },
      "execution_count": null,
      "outputs": [
        {
          "output_type": "stream",
          "name": "stdout",
          "text": [
            "completed_task: ['Prayer', 'take bath']\n",
            "incompleted_task: ['Grocery Shopping', 'Pay Bills', 'Prepare Breakfast', 'Take Bath', 'Lunch', 'Power Nap']\n"
          ]
        }
      ]
    },
    {
      "cell_type": "code",
      "source": [
        "def sum(a,b):\n",
        "  print(\"The sum is:\",a+b)"
      ],
      "metadata": {
        "id": "s0ChYXvmhL1m"
      },
      "execution_count": null,
      "outputs": []
    },
    {
      "cell_type": "code",
      "source": [
        "sum(4,9)"
      ],
      "metadata": {
        "colab": {
          "base_uri": "https://localhost:8080/"
        },
        "id": "dTyl9iTjhYCg",
        "outputId": "98e00f77-e879-4d0a-ba3b-d5dd25f271a6"
      },
      "execution_count": null,
      "outputs": [
        {
          "output_type": "stream",
          "name": "stdout",
          "text": [
            "The sum is: 13\n"
          ]
        }
      ]
    },
    {
      "cell_type": "code",
      "source": [
        "n=20\n",
        "\n",
        "\n",
        "if (n%2!=0):\n",
        "    print(\"Weird\")\n",
        "elif(n%2==0 and n in range(2,5)):\n",
        "    print(\"Not Weird\")\n",
        "elif(n%2==0 and n in range(6,20)):\n",
        "    print(\"Weird\")\n",
        "elif(n%2==0 and n>20):\n",
        "    print(\"Not Weird\")"
      ],
      "metadata": {
        "id": "9fIQ7m6IICI4"
      },
      "execution_count": null,
      "outputs": []
    }
  ]
}