{
  "nbformat": 4,
  "nbformat_minor": 0,
  "metadata": {
    "colab": {
      "provenance": [],
      "authorship_tag": "ABX9TyMLuM102DuZBiF8Nh5uLRKA",
      "include_colab_link": true
    },
    "kernelspec": {
      "name": "python3",
      "display_name": "Python 3"
    },
    "language_info": {
      "name": "python"
    }
  },
  "cells": [
    {
      "cell_type": "markdown",
      "metadata": {
        "id": "view-in-github",
        "colab_type": "text"
      },
      "source": [
        "<a href=\"https://colab.research.google.com/github/ssing2517/python_learning/blob/main/Project_1.ipynb\" target=\"_parent\"><img src=\"https://colab.research.google.com/assets/colab-badge.svg\" alt=\"Open In Colab\"/></a>"
      ]
    },
    {
      "cell_type": "code",
      "execution_count": 13,
      "metadata": {
        "id": "lCHbBhEcD8wV"
      },
      "outputs": [],
      "source": [
        "L1 = [1, 2, 2, 3, 2, 3, 4, 5]\n",
        "\n",
        "num_counter={}\n",
        "\n",
        "for i in L1:\n",
        "  if i in num_counter:\n",
        "    num_counter[i]+=1\n",
        "  else:\n",
        "    num_counter[i]=1\n"
      ]
    },
    {
      "cell_type": "code",
      "source": [
        "print(num_counter)"
      ],
      "metadata": {
        "colab": {
          "base_uri": "https://localhost:8080/"
        },
        "id": "mMI9cv_3GUkz",
        "outputId": "ec66828e-9c87-4442-b2cd-f3c58de2f1cc"
      },
      "execution_count": 14,
      "outputs": [
        {
          "output_type": "stream",
          "name": "stdout",
          "text": [
            "{1: 1, 2: 3, 3: 2, 4: 1, 5: 1}\n"
          ]
        }
      ]
    }
  ]
}