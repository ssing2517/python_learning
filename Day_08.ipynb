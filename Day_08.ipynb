{
  "nbformat": 4,
  "nbformat_minor": 0,
  "metadata": {
    "colab": {
      "provenance": [],
      "include_colab_link": true
    },
    "kernelspec": {
      "name": "python3",
      "display_name": "Python 3"
    },
    "language_info": {
      "name": "python"
    }
  },
  "cells": [
    {
      "cell_type": "markdown",
      "metadata": {
        "id": "view-in-github",
        "colab_type": "text"
      },
      "source": [
        "<a href=\"https://colab.research.google.com/github/ssing2517/python_learning/blob/main/Day_08.ipynb\" target=\"_parent\"><img src=\"https://colab.research.google.com/assets/colab-badge.svg\" alt=\"Open In Colab\"/></a>"
      ]
    },
    {
      "cell_type": "markdown",
      "source": [
        "# **Functions - Basics**"
      ],
      "metadata": {
        "id": "rgC0hvtiJeGG"
      }
    },
    {
      "cell_type": "code",
      "source": [
        "# input, logic, output"
      ],
      "metadata": {
        "id": "nA80gC62Jjt5"
      },
      "execution_count": null,
      "outputs": []
    },
    {
      "cell_type": "code",
      "source": [
        "print(\"Hello David!\")"
      ],
      "metadata": {
        "colab": {
          "base_uri": "https://localhost:8080/"
        },
        "id": "FhwLcQXJJvCL",
        "outputId": "87b292d2-988a-45fd-9b84-2f03e6462cd6"
      },
      "execution_count": null,
      "outputs": [
        {
          "output_type": "stream",
          "name": "stdout",
          "text": [
            "Hello David!\n"
          ]
        }
      ]
    },
    {
      "cell_type": "markdown",
      "source": [
        "# **1. Defining a Function**"
      ],
      "metadata": {
        "id": "nulNGfLbJ5pX"
      }
    },
    {
      "cell_type": "code",
      "source": [
        "def hello():\n",
        "  print(\"Hello world!\")"
      ],
      "metadata": {
        "id": "MVz1-eAiJ1K7"
      },
      "execution_count": null,
      "outputs": []
    },
    {
      "cell_type": "markdown",
      "source": [
        "# **2. Calling a Function**"
      ],
      "metadata": {
        "id": "o5P8XXhcKZgp"
      }
    },
    {
      "cell_type": "code",
      "source": [
        "hello()"
      ],
      "metadata": {
        "colab": {
          "base_uri": "https://localhost:8080/"
        },
        "id": "yQqskRvpJ3xE",
        "outputId": "168b7b37-30c0-446d-87e0-033a2286253d"
      },
      "execution_count": null,
      "outputs": [
        {
          "output_type": "stream",
          "name": "stdout",
          "text": [
            "Hello world!\n"
          ]
        }
      ]
    },
    {
      "cell_type": "code",
      "source": [
        "# input - inside braces - no\n",
        "# logic - print\n",
        "# output - Hello world"
      ],
      "metadata": {
        "id": "CxJhLfB2KN1C"
      },
      "execution_count": null,
      "outputs": []
    },
    {
      "cell_type": "markdown",
      "source": [
        "# **3. Function with Parameters / Params**"
      ],
      "metadata": {
        "id": "51sAy2m8K38S"
      }
    },
    {
      "cell_type": "code",
      "source": [
        "def hello(name):\n",
        "  print(f\"Hello {name}!\")"
      ],
      "metadata": {
        "id": "IzA__eC0KjiB"
      },
      "execution_count": null,
      "outputs": []
    },
    {
      "cell_type": "code",
      "source": [
        "hello(\"Rajesh\")"
      ],
      "metadata": {
        "colab": {
          "base_uri": "https://localhost:8080/"
        },
        "id": "kr9Vn9_iKvkP",
        "outputId": "cda27e1e-cfc5-4293-eaff-c3ab25288487"
      },
      "execution_count": null,
      "outputs": [
        {
          "output_type": "stream",
          "name": "stdout",
          "text": [
            "Hello Rajesh!\n"
          ]
        }
      ]
    },
    {
      "cell_type": "markdown",
      "source": [
        "# **F Strings**"
      ],
      "metadata": {
        "id": "IYxpk8IYLl5d"
      }
    },
    {
      "cell_type": "code",
      "source": [
        "country = \"Australia\"\n",
        "capital = \"Canberra\"\n",
        "print(f\"{capital} is the capital city of {country}\")"
      ],
      "metadata": {
        "colab": {
          "base_uri": "https://localhost:8080/"
        },
        "id": "iGmBjCnCLAKf",
        "outputId": "f6470008-6991-42be-e1d1-98a0b2bf0ceb"
      },
      "execution_count": null,
      "outputs": [
        {
          "output_type": "stream",
          "name": "stdout",
          "text": [
            "Canberra is the capital city of Australia\n"
          ]
        }
      ]
    },
    {
      "cell_type": "markdown",
      "source": [
        "# **4. Function with Return value**"
      ],
      "metadata": {
        "id": "JDRrKtwyMPX-"
      }
    },
    {
      "cell_type": "code",
      "source": [
        "# two numbers = add them\n",
        "def add_numbers(x, y):\n",
        "  return x+y"
      ],
      "metadata": {
        "id": "hIS_APMELrz0"
      },
      "execution_count": null,
      "outputs": []
    },
    {
      "cell_type": "code",
      "source": [
        "add_numbers(5, 6)"
      ],
      "metadata": {
        "colab": {
          "base_uri": "https://localhost:8080/"
        },
        "id": "iZeByoWqL7dq",
        "outputId": "e5b6b542-cadc-4673-b639-e7eb2a05a43a"
      },
      "execution_count": null,
      "outputs": [
        {
          "output_type": "execute_result",
          "data": {
            "text/plain": [
              "11"
            ]
          },
          "metadata": {},
          "execution_count": 24
        }
      ]
    },
    {
      "cell_type": "code",
      "source": [
        "v = add_numbers(5, 6)"
      ],
      "metadata": {
        "id": "n2gabRqEL9kw"
      },
      "execution_count": null,
      "outputs": []
    },
    {
      "cell_type": "code",
      "source": [
        "v"
      ],
      "metadata": {
        "colab": {
          "base_uri": "https://localhost:8080/"
        },
        "id": "ms_fzHgNMDwz",
        "outputId": "fb1f3d5a-1b35-4cca-d313-f241e91b7ce1"
      },
      "execution_count": null,
      "outputs": [
        {
          "output_type": "execute_result",
          "data": {
            "text/plain": [
              "11"
            ]
          },
          "metadata": {},
          "execution_count": 26
        }
      ]
    }
  ]
}