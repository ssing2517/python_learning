{
  "nbformat": 4,
  "nbformat_minor": 0,
  "metadata": {
    "colab": {
      "provenance": [],
      "include_colab_link": true
    },
    "kernelspec": {
      "name": "python3",
      "display_name": "Python 3"
    },
    "language_info": {
      "name": "python"
    }
  },
  "cells": [
    {
      "cell_type": "markdown",
      "metadata": {
        "id": "view-in-github",
        "colab_type": "text"
      },
      "source": [
        "<a href=\"https://colab.research.google.com/github/ssing2517/python_learning/blob/main/Day_15.ipynb\" target=\"_parent\"><img src=\"https://colab.research.google.com/assets/colab-badge.svg\" alt=\"Open In Colab\"/></a>"
      ]
    },
    {
      "cell_type": "markdown",
      "source": [
        "# **Creating a Dictionary**"
      ],
      "metadata": {
        "id": "nkNSQIxeYSI2"
      }
    },
    {
      "cell_type": "code",
      "execution_count": null,
      "metadata": {
        "id": "BTzRuYOpX3U7"
      },
      "outputs": [],
      "source": [
        "student = {}"
      ]
    },
    {
      "cell_type": "code",
      "source": [
        "# List - []\n",
        "# Dict - {}"
      ],
      "metadata": {
        "id": "2PU8WjY8YRN9"
      },
      "execution_count": null,
      "outputs": []
    },
    {
      "cell_type": "code",
      "source": [
        "# name, age, gender\n",
        "student = {\"name\":\"Raju\", \"age\":27, \"gender\":\"male\", \"qualified\":False}\n",
        "\n",
        "# key-value pairs - 3\n",
        "# key & value are linked using :"
      ],
      "metadata": {
        "id": "55JPDDlWYRKj"
      },
      "execution_count": null,
      "outputs": []
    },
    {
      "cell_type": "code",
      "source": [
        "print(student)"
      ],
      "metadata": {
        "colab": {
          "base_uri": "https://localhost:8080/"
        },
        "id": "p-hUxrPtYRG8",
        "outputId": "9623642a-4cf1-41f5-81fe-a4a1fdd0bca7"
      },
      "execution_count": null,
      "outputs": [
        {
          "output_type": "stream",
          "name": "stdout",
          "text": [
            "{'name': 'Raju', 'age': 27, 'gender': 'male', 'qualified': False}\n"
          ]
        }
      ]
    },
    {
      "cell_type": "markdown",
      "source": [
        "# 2. **Accessing Values**"
      ],
      "metadata": {
        "id": "9MlF6TjvZ5Zv"
      }
    },
    {
      "cell_type": "code",
      "source": [
        "student[\"name\"]"
      ],
      "metadata": {
        "colab": {
          "base_uri": "https://localhost:8080/",
          "height": 36
        },
        "id": "V-zO5ygCYRED",
        "outputId": "cb48a7e4-260d-494e-98cc-250fc0fd9c8c"
      },
      "execution_count": null,
      "outputs": [
        {
          "output_type": "execute_result",
          "data": {
            "text/plain": [
              "'Raju'"
            ],
            "application/vnd.google.colaboratory.intrinsic+json": {
              "type": "string"
            }
          },
          "metadata": {},
          "execution_count": 6
        }
      ]
    },
    {
      "cell_type": "code",
      "source": [
        "student[\"name\"] = \"David\"\n",
        "student[\"age\"] = 26"
      ],
      "metadata": {
        "id": "g1RqwXTHYRBJ"
      },
      "execution_count": null,
      "outputs": []
    },
    {
      "cell_type": "code",
      "source": [
        "student"
      ],
      "metadata": {
        "colab": {
          "base_uri": "https://localhost:8080/"
        },
        "id": "PWk1c75tYQ-c",
        "outputId": "5fe0eb0c-2881-4e7f-aa46-4776fa5aceab"
      },
      "execution_count": null,
      "outputs": [
        {
          "output_type": "execute_result",
          "data": {
            "text/plain": [
              "{'name': 'David', 'age': 26, 'gender': 'male', 'qualified': False}"
            ]
          },
          "metadata": {},
          "execution_count": 10
        }
      ]
    },
    {
      "cell_type": "markdown",
      "source": [
        "# **3. Looping Through a Dictionary**"
      ],
      "metadata": {
        "id": "K-9ztKLoaTuf"
      }
    },
    {
      "cell_type": "code",
      "source": [
        "student"
      ],
      "metadata": {
        "colab": {
          "base_uri": "https://localhost:8080/"
        },
        "id": "oFvAXYrnYQ7l",
        "outputId": "4f19a1f2-5667-4f8b-a161-453fb5f809c1"
      },
      "execution_count": null,
      "outputs": [
        {
          "output_type": "execute_result",
          "data": {
            "text/plain": [
              "{'name': 'David', 'age': 26, 'gender': 'male', 'qualified': False}"
            ]
          },
          "metadata": {},
          "execution_count": 11
        }
      ]
    },
    {
      "cell_type": "code",
      "source": [
        "for key in student:\n",
        "  print(key)"
      ],
      "metadata": {
        "colab": {
          "base_uri": "https://localhost:8080/"
        },
        "id": "f30qZPaqYQ4o",
        "outputId": "69462365-1d60-4b6b-b5d6-75983db45321"
      },
      "execution_count": null,
      "outputs": [
        {
          "output_type": "stream",
          "name": "stdout",
          "text": [
            "name\n",
            "age\n",
            "gender\n",
            "qualified\n"
          ]
        }
      ]
    },
    {
      "cell_type": "code",
      "source": [
        "for value in student.values():\n",
        "  print(value)"
      ],
      "metadata": {
        "colab": {
          "base_uri": "https://localhost:8080/"
        },
        "id": "HmSRyLiQYQ1y",
        "outputId": "290f7b9b-bb3d-4824-a6a6-9fa9a37160f1"
      },
      "execution_count": null,
      "outputs": [
        {
          "output_type": "stream",
          "name": "stdout",
          "text": [
            "David\n",
            "26\n",
            "male\n",
            "False\n"
          ]
        }
      ]
    },
    {
      "cell_type": "code",
      "source": [
        "for k, v in student.items():\n",
        "  print(k, v)\n"
      ],
      "metadata": {
        "colab": {
          "base_uri": "https://localhost:8080/"
        },
        "id": "8JUKBellYQzN",
        "outputId": "79745058-b109-4d42-8770-d421aed8854f"
      },
      "execution_count": null,
      "outputs": [
        {
          "output_type": "stream",
          "name": "stdout",
          "text": [
            "name David\n",
            "age 26\n",
            "gender male\n",
            "qualified False\n"
          ]
        }
      ]
    },
    {
      "cell_type": "code",
      "source": [
        "for k in student:\n",
        "  if k == \"name\":\n",
        "    print(\"Found the key\")"
      ],
      "metadata": {
        "colab": {
          "base_uri": "https://localhost:8080/"
        },
        "id": "z69bwMPEYQwb",
        "outputId": "f7e04017-520e-4a6d-c8f2-4af4724cd7db"
      },
      "execution_count": null,
      "outputs": [
        {
          "output_type": "stream",
          "name": "stdout",
          "text": [
            "Found the key\n"
          ]
        }
      ]
    },
    {
      "cell_type": "code",
      "source": [
        "if \"hobby\" in student:\n",
        "  print(True)\n",
        "else:\n",
        "  print(False)"
      ],
      "metadata": {
        "colab": {
          "base_uri": "https://localhost:8080/"
        },
        "id": "FzmerbVfba-M",
        "outputId": "bd7cd2a5-bb94-43fc-8044-2d06c092c18d"
      },
      "execution_count": null,
      "outputs": [
        {
          "output_type": "stream",
          "name": "stdout",
          "text": [
            "False\n"
          ]
        }
      ]
    }
  ]
}