{
  "nbformat": 4,
  "nbformat_minor": 0,
  "metadata": {
    "colab": {
      "provenance": [],
      "include_colab_link": true
    },
    "kernelspec": {
      "name": "python3",
      "display_name": "Python 3"
    },
    "language_info": {
      "name": "python"
    }
  },
  "cells": [
    {
      "cell_type": "markdown",
      "metadata": {
        "id": "view-in-github",
        "colab_type": "text"
      },
      "source": [
        "<a href=\"https://colab.research.google.com/github/ssing2517/python_learning/blob/main/Day_29.ipynb\" target=\"_parent\"><img src=\"https://colab.research.google.com/assets/colab-badge.svg\" alt=\"Open In Colab\"/></a>"
      ]
    },
    {
      "cell_type": "code",
      "execution_count": null,
      "metadata": {
        "id": "JS7BGEg01ptU"
      },
      "outputs": [],
      "source": [
        "# Popular Python Resources\n",
        "\n",
        "# --- Reading\n",
        "# W3Schools - https://www.w3schools.com/python/\n",
        "# GeeksforGeeks - https://www.geeksforgeeks.org/python-programming-language-tutorial/\n",
        "# TutorialsPoint - https://www.tutorialspoint.com/python/\n",
        "\n",
        "# --- Testing\n",
        "# Hackerrank - https://www.hackerrank.com/domains/python\n",
        "# Leetcode - https://leetcode.com/problemset/\n",
        "# CodeChef - https://www.codechef.com/\n",
        "\n",
        "# --- Youtube\n",
        "# TheNewBoston"
      ]
    }
  ]
}