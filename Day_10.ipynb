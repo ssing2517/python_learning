{
  "nbformat": 4,
  "nbformat_minor": 0,
  "metadata": {
    "colab": {
      "provenance": [],
      "include_colab_link": true
    },
    "kernelspec": {
      "name": "python3",
      "display_name": "Python 3"
    },
    "language_info": {
      "name": "python"
    }
  },
  "cells": [
    {
      "cell_type": "markdown",
      "metadata": {
        "id": "view-in-github",
        "colab_type": "text"
      },
      "source": [
        "<a href=\"https://colab.research.google.com/github/ssing2517/python_learning/blob/main/Day_10.ipynb\" target=\"_parent\"><img src=\"https://colab.research.google.com/assets/colab-badge.svg\" alt=\"Open In Colab\"/></a>"
      ]
    },
    {
      "cell_type": "code",
      "execution_count": null,
      "metadata": {
        "id": "vSrrmz3LbY2L"
      },
      "outputs": [],
      "source": []
    },
    {
      "cell_type": "markdown",
      "source": [
        "# **1. Creating Strings**"
      ],
      "metadata": {
        "id": "QbRT4ow5b0-a"
      }
    },
    {
      "cell_type": "code",
      "source": [
        "single_quote_strings = 'Hello'\n",
        "double_quote_strings = \"Hello\"\n",
        "triple_quote_strings = '''Hello'''"
      ],
      "metadata": {
        "id": "KwYlDF0hb4as"
      },
      "execution_count": null,
      "outputs": []
    },
    {
      "cell_type": "code",
      "source": [
        "multiline_string = '''\n",
        "this is line 1 in my story\n",
        "this is line 2 in my story\n",
        "'''"
      ],
      "metadata": {
        "id": "GCgz4ZN2cIuD"
      },
      "execution_count": null,
      "outputs": []
    },
    {
      "cell_type": "markdown",
      "source": [
        "# **2. Accessing Char**"
      ],
      "metadata": {
        "id": "YdATNa7TceJV"
      }
    },
    {
      "cell_type": "code",
      "source": [
        "single_quote_strings[1]"
      ],
      "metadata": {
        "colab": {
          "base_uri": "https://localhost:8080/",
          "height": 36
        },
        "id": "oCvfB_ekcWts",
        "outputId": "4e996b06-7572-48a8-dc21-ac9a863f76cf"
      },
      "execution_count": null,
      "outputs": [
        {
          "output_type": "execute_result",
          "data": {
            "text/plain": [
              "'e'"
            ],
            "application/vnd.google.colaboratory.intrinsic+json": {
              "type": "string"
            }
          },
          "metadata": {},
          "execution_count": 8
        }
      ]
    },
    {
      "cell_type": "markdown",
      "source": [
        "# **3. Slicing a String**"
      ],
      "metadata": {
        "id": "uvN7ZRTncpo3"
      }
    },
    {
      "cell_type": "code",
      "source": [
        "single_quote_strings[:4]"
      ],
      "metadata": {
        "colab": {
          "base_uri": "https://localhost:8080/",
          "height": 36
        },
        "id": "LpaMS2xgctfa",
        "outputId": "d3ac427c-cdda-4d4e-bbc0-657867e0baf6"
      },
      "execution_count": null,
      "outputs": [
        {
          "output_type": "execute_result",
          "data": {
            "text/plain": [
              "'Hell'"
            ],
            "application/vnd.google.colaboratory.intrinsic+json": {
              "type": "string"
            }
          },
          "metadata": {},
          "execution_count": 10
        }
      ]
    },
    {
      "cell_type": "code",
      "source": [
        "multiline_string[:15]"
      ],
      "metadata": {
        "colab": {
          "base_uri": "https://localhost:8080/",
          "height": 36
        },
        "id": "0oBMObWvcyM3",
        "outputId": "1356e027-f38b-46ec-cc57-a7606182a7ae"
      },
      "execution_count": null,
      "outputs": [
        {
          "output_type": "execute_result",
          "data": {
            "text/plain": [
              "'\\nthis is line 1'"
            ],
            "application/vnd.google.colaboratory.intrinsic+json": {
              "type": "string"
            }
          },
          "metadata": {},
          "execution_count": 12
        }
      ]
    },
    {
      "cell_type": "markdown",
      "source": [
        "# **4. Negative indexing**"
      ],
      "metadata": {
        "id": "FEE4uPGoc4DA"
      }
    },
    {
      "cell_type": "code",
      "source": [
        "double_quote_strings[-1]"
      ],
      "metadata": {
        "colab": {
          "base_uri": "https://localhost:8080/",
          "height": 36
        },
        "id": "lvwGrR6lc7Jk",
        "outputId": "68bc465d-6d28-4c8e-e04c-d45567d8ba5d"
      },
      "execution_count": null,
      "outputs": [
        {
          "output_type": "execute_result",
          "data": {
            "text/plain": [
              "'o'"
            ],
            "application/vnd.google.colaboratory.intrinsic+json": {
              "type": "string"
            }
          },
          "metadata": {},
          "execution_count": 13
        }
      ]
    },
    {
      "cell_type": "markdown",
      "source": [
        "# **5. String Concatenation**"
      ],
      "metadata": {
        "id": "PFylVtcedB75"
      }
    },
    {
      "cell_type": "code",
      "source": [
        "\"Hello\" + \" \" + \"World\" + \"!\""
      ],
      "metadata": {
        "colab": {
          "base_uri": "https://localhost:8080/",
          "height": 36
        },
        "id": "e3XItwkJdFpk",
        "outputId": "350e36dd-ff4c-4209-c9e0-ed527bd0b588"
      },
      "execution_count": null,
      "outputs": [
        {
          "output_type": "execute_result",
          "data": {
            "text/plain": [
              "'Hello World!'"
            ],
            "application/vnd.google.colaboratory.intrinsic+json": {
              "type": "string"
            }
          },
          "metadata": {},
          "execution_count": 16
        }
      ]
    },
    {
      "cell_type": "markdown",
      "source": [
        "# **6. String Repetition**"
      ],
      "metadata": {
        "id": "gf-3xKP3dQUg"
      }
    },
    {
      "cell_type": "code",
      "source": [
        "\"ha \"*3 + '!'"
      ],
      "metadata": {
        "colab": {
          "base_uri": "https://localhost:8080/",
          "height": 36
        },
        "id": "ueiiIfFAdWmO",
        "outputId": "68d5cf97-e862-46da-c02c-5c80d849f010"
      },
      "execution_count": null,
      "outputs": [
        {
          "output_type": "execute_result",
          "data": {
            "text/plain": [
              "'ha ha ha !'"
            ],
            "application/vnd.google.colaboratory.intrinsic+json": {
              "type": "string"
            }
          },
          "metadata": {},
          "execution_count": 19
        }
      ]
    },
    {
      "cell_type": "markdown",
      "source": [
        "# **7. String length**"
      ],
      "metadata": {
        "id": "CsRFkMK6dg07"
      }
    },
    {
      "cell_type": "code",
      "source": [
        "x = \"Hello \""
      ],
      "metadata": {
        "id": "haySn-R7djZY"
      },
      "execution_count": null,
      "outputs": []
    },
    {
      "cell_type": "code",
      "source": [
        "len(x)"
      ],
      "metadata": {
        "colab": {
          "base_uri": "https://localhost:8080/"
        },
        "id": "LMjmyG0_dl9z",
        "outputId": "a14f745a-f51e-4425-826d-1eb915d5dcaa"
      },
      "execution_count": null,
      "outputs": [
        {
          "output_type": "execute_result",
          "data": {
            "text/plain": [
              "6"
            ]
          },
          "metadata": {},
          "execution_count": 23
        }
      ]
    },
    {
      "cell_type": "markdown",
      "source": [
        "# **8. Checking Substrings**"
      ],
      "metadata": {
        "id": "iEwonBB-dvRR"
      }
    },
    {
      "cell_type": "code",
      "source": [
        "# substring - string which is a part of the main string\n",
        "# \"Hello World\" --> \"World\""
      ],
      "metadata": {
        "id": "a7pYiT-sdmv-"
      },
      "execution_count": null,
      "outputs": []
    },
    {
      "cell_type": "code",
      "source": [
        "x = \" HelloWorld\""
      ],
      "metadata": {
        "id": "W2nwa3sTd-U4"
      },
      "execution_count": null,
      "outputs": []
    },
    {
      "cell_type": "code",
      "source": [
        "print(\" \" in x)"
      ],
      "metadata": {
        "colab": {
          "base_uri": "https://localhost:8080/"
        },
        "id": "FUjrOmFBeAQ_",
        "outputId": "1ae2f026-0653-45e5-dc2d-5113f177d822"
      },
      "execution_count": null,
      "outputs": [
        {
          "output_type": "stream",
          "name": "stdout",
          "text": [
            "True\n"
          ]
        }
      ]
    },
    {
      "cell_type": "markdown",
      "source": [
        "# 9. **String Methods / Functions**"
      ],
      "metadata": {
        "id": "iulSmOv4eLu4"
      }
    },
    {
      "cell_type": "code",
      "source": [
        "name = \"david\""
      ],
      "metadata": {
        "id": "_YUPfvAVeQTG"
      },
      "execution_count": null,
      "outputs": []
    },
    {
      "cell_type": "code",
      "source": [
        "# name.lower()\n",
        "name.upper()"
      ],
      "metadata": {
        "colab": {
          "base_uri": "https://localhost:8080/",
          "height": 36
        },
        "id": "KrTyjSUoeSma",
        "outputId": "61d6e687-b5b2-4724-9332-5d4ed7c12e12"
      },
      "execution_count": null,
      "outputs": [
        {
          "output_type": "execute_result",
          "data": {
            "text/plain": [
              "'DAVID'"
            ],
            "application/vnd.google.colaboratory.intrinsic+json": {
              "type": "string"
            }
          },
          "metadata": {},
          "execution_count": 31
        }
      ]
    },
    {
      "cell_type": "code",
      "source": [
        "# join, strip, split, replace"
      ],
      "metadata": {
        "id": "60G983yreX34"
      },
      "execution_count": null,
      "outputs": []
    },
    {
      "cell_type": "code",
      "source": [],
      "metadata": {
        "id": "3w9QZc3qelsr"
      },
      "execution_count": null,
      "outputs": []
    },
    {
      "cell_type": "markdown",
      "source": [
        "# 10. **String Formatting - F String**"
      ],
      "metadata": {
        "id": "X_OuA8Sneme7"
      }
    },
    {
      "cell_type": "code",
      "source": [
        "name = \"Sachin\"\n",
        "print(f\"My name is {name}\")"
      ],
      "metadata": {
        "colab": {
          "base_uri": "https://localhost:8080/"
        },
        "id": "qXQ9PoHyeq3s",
        "outputId": "03c86296-5ff1-4ca6-c392-1acb84413994"
      },
      "execution_count": null,
      "outputs": [
        {
          "output_type": "stream",
          "name": "stdout",
          "text": [
            "My name is Sachin\n"
          ]
        }
      ]
    }
  ]
}