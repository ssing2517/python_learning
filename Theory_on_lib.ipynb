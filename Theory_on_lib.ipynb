{
  "nbformat": 4,
  "nbformat_minor": 0,
  "metadata": {
    "colab": {
      "provenance": [],
      "authorship_tag": "ABX9TyPTsaFZSnb9OvcbAL6R/Lap",
      "include_colab_link": true
    },
    "kernelspec": {
      "name": "python3",
      "display_name": "Python 3"
    },
    "language_info": {
      "name": "python"
    }
  },
  "cells": [
    {
      "cell_type": "markdown",
      "metadata": {
        "id": "view-in-github",
        "colab_type": "text"
      },
      "source": [
        "<a href=\"https://colab.research.google.com/github/ssing2517/python_learning/blob/main/Theory_on_lib.ipynb\" target=\"_parent\"><img src=\"https://colab.research.google.com/assets/colab-badge.svg\" alt=\"Open In Colab\"/></a>"
      ]
    },
    {
      "cell_type": "markdown",
      "source": [
        "#Matplotlib\n",
        "#Seaborn\n",
        "#Plotly used by experienced\n",
        "\n",
        "#Visualization Tools:\n",
        "#Tableau\n",
        "#PowerBI\n",
        "#DataWrapper\n",
        "#Google Looker Studio\n",
        "\n",
        "#For Colors you can use :Colorbrewer,AdobeColor Wheel,Pinterest\n",
        "\n",
        "1)What does the function numpy.zeros((3, 3)) do?\n",
        "\n",
        "The numpy.zeros((3, 3)) function creates a 3×3 NumPy array where all elements are initialized to zero\n",
        "\n",
        "2)Which of the following is the correct way to generate an array of evenly spaced values between 0 and 10 with a step size of 2?\n",
        "\n",
        "The np.arange(0, 10, 2) function generates an array of evenly spaced values starting from 0, ending before 10, with a step size of 2.\n",
        "\n",
        "3)What is the shape of the array created by np.array([[1, 2, 3], [4, 5, 6]])?\n",
        "\n",
        "The array np.array([[1, 2, 3], [4, 5, 6]]) has 2 rows and 3 columns, so its shape is (2, 3).\n",
        "\n",
        "4)Which of the following function is used to read a CSV file into a Pandas DataFrame?\n",
        "\n",
        "The pd.read_csv() function is used to read a CSV file into a Pandas DataFrame.\n",
        "\n",
        "5)What does df.head() do in Pandas?\n",
        "\n",
        "he df.head() function in Pandas displays the first 5 rows of the DataFrame by default.\n",
        "\n",
        "6)How do you select a specific column named ‘Age’ from a Pandas DataFrame df?\n",
        "\n",
        "In Pandas, you can select a specific column from a DataFrame using df['Age'], where 'Age' is the name of the column.\n",
        "\n"
      ],
      "metadata": {
        "id": "SB9bHXnTZ4WZ"
      }
    },
    {
      "cell_type": "markdown",
      "source": [
        "# --- Data Science ---\n",
        "# Numpy, Pandas, Matplotlib\n",
        "# Sklearn, Pytorch, Tensorflow\n",
        "# --- APIS ---\n",
        "# Requests, Flask, FastAPI\n",
        "I\n",
        "# --- Web Development ---\n",
        "# Flask, Streamlit, Django\n",
        "# --- Web Scraping / Web Crawling ---\n",
        "# Selenium, BeautifulSoup, Scrapy\n",
        "# --- Computer Vision / Image Processing\n",
        "# OpenCV, Pillow, MoviePy, Ultralytics"
      ],
      "metadata": {
        "id": "nEBeMYJBdmQP"
      }
    }
  ]
}