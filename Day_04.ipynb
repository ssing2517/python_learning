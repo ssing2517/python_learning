{
  "nbformat": 4,
  "nbformat_minor": 0,
  "metadata": {
    "colab": {
      "provenance": [],
      "include_colab_link": true
    },
    "kernelspec": {
      "name": "python3",
      "display_name": "Python 3"
    },
    "language_info": {
      "name": "python"
    }
  },
  "cells": [
    {
      "cell_type": "markdown",
      "metadata": {
        "id": "view-in-github",
        "colab_type": "text"
      },
      "source": [
        "<a href=\"https://colab.research.google.com/github/ssing2517/python_learning/blob/main/Day_04.ipynb\" target=\"_parent\"><img src=\"https://colab.research.google.com/assets/colab-badge.svg\" alt=\"Open In Colab\"/></a>"
      ]
    },
    {
      "cell_type": "code",
      "execution_count": null,
      "metadata": {
        "id": "TSNsgl5LjSB2"
      },
      "outputs": [],
      "source": [
        "# for, range(start, end), in\n",
        "\n",
        "# by default start = 0, range(20)"
      ]
    },
    {
      "cell_type": "code",
      "source": [
        "print(1)"
      ],
      "metadata": {
        "colab": {
          "base_uri": "https://localhost:8080/"
        },
        "id": "vqwMhgBOj422",
        "outputId": "10c1d25e-1554-48f9-f3e0-6296ba0bd901"
      },
      "execution_count": null,
      "outputs": [
        {
          "output_type": "stream",
          "name": "stdout",
          "text": [
            "1\n"
          ]
        }
      ]
    },
    {
      "cell_type": "code",
      "source": [
        "print(2)"
      ],
      "metadata": {
        "colab": {
          "base_uri": "https://localhost:8080/"
        },
        "id": "-dcseF6PkLYW",
        "outputId": "d79f9ee9-3cbd-4c7c-94f9-d62758909780"
      },
      "execution_count": null,
      "outputs": [
        {
          "output_type": "stream",
          "name": "stdout",
          "text": [
            "2\n"
          ]
        }
      ]
    },
    {
      "cell_type": "code",
      "source": [
        "# for i in range(100):\n",
        "#   print(i)"
      ],
      "metadata": {
        "id": "eDzrIGm7kMMn"
      },
      "execution_count": null,
      "outputs": []
    },
    {
      "cell_type": "code",
      "source": [
        "# n/10 --> reminder of 0"
      ],
      "metadata": {
        "id": "s4-mjR3ElCks"
      },
      "execution_count": null,
      "outputs": []
    },
    {
      "cell_type": "code",
      "source": [
        "num = 70\n",
        "\n",
        "if (num%10) == 0:\n",
        "  print(num)\n",
        "else:\n",
        "  print(\"\")"
      ],
      "metadata": {
        "colab": {
          "base_uri": "https://localhost:8080/"
        },
        "id": "68Je5VcjlIEB",
        "outputId": "efc082d0-2fb7-49db-e10b-f35724d68dab"
      },
      "execution_count": null,
      "outputs": [
        {
          "output_type": "stream",
          "name": "stdout",
          "text": [
            "70\n"
          ]
        }
      ]
    },
    {
      "cell_type": "code",
      "source": [
        "for i in range(100):\n",
        "  if (i%20) == 0:\n",
        "    print(\"divisible: \", i)\n",
        "  else:\n",
        "    print(\"not divisible: \", i)"
      ],
      "metadata": {
        "colab": {
          "base_uri": "https://localhost:8080/"
        },
        "id": "0BCrvBJhlIAd",
        "outputId": "94f39968-e09a-4a17-a8c2-5ed0b7a9d970"
      },
      "execution_count": null,
      "outputs": [
        {
          "output_type": "stream",
          "name": "stdout",
          "text": [
            "divisible:  0\n",
            "not divisible:  1\n",
            "not divisible:  2\n",
            "not divisible:  3\n",
            "not divisible:  4\n",
            "not divisible:  5\n",
            "not divisible:  6\n",
            "not divisible:  7\n",
            "not divisible:  8\n",
            "not divisible:  9\n",
            "not divisible:  10\n",
            "not divisible:  11\n",
            "not divisible:  12\n",
            "not divisible:  13\n",
            "not divisible:  14\n",
            "not divisible:  15\n",
            "not divisible:  16\n",
            "not divisible:  17\n",
            "not divisible:  18\n",
            "not divisible:  19\n",
            "divisible:  20\n",
            "not divisible:  21\n",
            "not divisible:  22\n",
            "not divisible:  23\n",
            "not divisible:  24\n",
            "not divisible:  25\n",
            "not divisible:  26\n",
            "not divisible:  27\n",
            "not divisible:  28\n",
            "not divisible:  29\n",
            "not divisible:  30\n",
            "not divisible:  31\n",
            "not divisible:  32\n",
            "not divisible:  33\n",
            "not divisible:  34\n",
            "not divisible:  35\n",
            "not divisible:  36\n",
            "not divisible:  37\n",
            "not divisible:  38\n",
            "not divisible:  39\n",
            "divisible:  40\n",
            "not divisible:  41\n",
            "not divisible:  42\n",
            "not divisible:  43\n",
            "not divisible:  44\n",
            "not divisible:  45\n",
            "not divisible:  46\n",
            "not divisible:  47\n",
            "not divisible:  48\n",
            "not divisible:  49\n",
            "not divisible:  50\n",
            "not divisible:  51\n",
            "not divisible:  52\n",
            "not divisible:  53\n",
            "not divisible:  54\n",
            "not divisible:  55\n",
            "not divisible:  56\n",
            "not divisible:  57\n",
            "not divisible:  58\n",
            "not divisible:  59\n",
            "divisible:  60\n",
            "not divisible:  61\n",
            "not divisible:  62\n",
            "not divisible:  63\n",
            "not divisible:  64\n",
            "not divisible:  65\n",
            "not divisible:  66\n",
            "not divisible:  67\n",
            "not divisible:  68\n",
            "not divisible:  69\n",
            "not divisible:  70\n",
            "not divisible:  71\n",
            "not divisible:  72\n",
            "not divisible:  73\n",
            "not divisible:  74\n",
            "not divisible:  75\n",
            "not divisible:  76\n",
            "not divisible:  77\n",
            "not divisible:  78\n",
            "not divisible:  79\n",
            "divisible:  80\n",
            "not divisible:  81\n",
            "not divisible:  82\n",
            "not divisible:  83\n",
            "not divisible:  84\n",
            "not divisible:  85\n",
            "not divisible:  86\n",
            "not divisible:  87\n",
            "not divisible:  88\n",
            "not divisible:  89\n",
            "not divisible:  90\n",
            "not divisible:  91\n",
            "not divisible:  92\n",
            "not divisible:  93\n",
            "not divisible:  94\n",
            "not divisible:  95\n",
            "not divisible:  96\n",
            "not divisible:  97\n",
            "not divisible:  98\n",
            "not divisible:  99\n"
          ]
        }
      ]
    },
    {
      "cell_type": "code",
      "source": [],
      "metadata": {
        "id": "phIb79i0lH9x"
      },
      "execution_count": null,
      "outputs": []
    }
  ]
}