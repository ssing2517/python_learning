{
  "nbformat": 4,
  "nbformat_minor": 0,
  "metadata": {
    "colab": {
      "provenance": [],
      "include_colab_link": true
    },
    "kernelspec": {
      "name": "python3",
      "display_name": "Python 3"
    },
    "language_info": {
      "name": "python"
    }
  },
  "cells": [
    {
      "cell_type": "markdown",
      "metadata": {
        "id": "view-in-github",
        "colab_type": "text"
      },
      "source": [
        "<a href=\"https://colab.research.google.com/github/ssing2517/python_learning/blob/main/Day_16.ipynb\" target=\"_parent\"><img src=\"https://colab.research.google.com/assets/colab-badge.svg\" alt=\"Open In Colab\"/></a>"
      ]
    },
    {
      "cell_type": "code",
      "execution_count": null,
      "metadata": {
        "id": "aMiiMqZLmPMQ"
      },
      "outputs": [],
      "source": [
        "# List [,]\n",
        "# Dict {key:value}\n",
        "# Tuple (,)\n",
        "# Set {,}"
      ]
    },
    {
      "cell_type": "code",
      "source": [],
      "metadata": {
        "id": "iRAN1MmZm55X"
      },
      "execution_count": null,
      "outputs": []
    },
    {
      "cell_type": "markdown",
      "source": [
        "# **Creating a Tuple**"
      ],
      "metadata": {
        "id": "p2zcQOlvm7b7"
      }
    },
    {
      "cell_type": "code",
      "source": [
        "my_tuple = (1, 2, 3)"
      ],
      "metadata": {
        "id": "n58L0elDm9uP"
      },
      "execution_count": null,
      "outputs": []
    },
    {
      "cell_type": "code",
      "source": [
        "my_tuple"
      ],
      "metadata": {
        "colab": {
          "base_uri": "https://localhost:8080/"
        },
        "id": "16OIVURGnBNA",
        "outputId": "c3a3833f-e463-4b86-e0f1-0a977988f4d5"
      },
      "execution_count": null,
      "outputs": [
        {
          "output_type": "execute_result",
          "data": {
            "text/plain": [
              "(1, 2, 3)"
            ]
          },
          "metadata": {},
          "execution_count": 8
        }
      ]
    },
    {
      "cell_type": "markdown",
      "source": [
        "# **Accessing Tuple Elements**"
      ],
      "metadata": {
        "id": "iiE7rvj6nHHT"
      }
    },
    {
      "cell_type": "code",
      "source": [
        "my_tuple[2]"
      ],
      "metadata": {
        "colab": {
          "base_uri": "https://localhost:8080/"
        },
        "id": "qWDZVBy0nCbd",
        "outputId": "a120eade-d524-4a2b-ede4-aa15e01afbdf"
      },
      "execution_count": null,
      "outputs": [
        {
          "output_type": "execute_result",
          "data": {
            "text/plain": [
              "3"
            ]
          },
          "metadata": {},
          "execution_count": 11
        }
      ]
    },
    {
      "cell_type": "markdown",
      "source": [
        "# **Tuple Operations**"
      ],
      "metadata": {
        "id": "7nvH5QjznPuH"
      }
    },
    {
      "cell_type": "code",
      "source": [
        "tp1 = (1, 2, 3)\n",
        "tp2 = (\"a\", \"b\", \"c\")"
      ],
      "metadata": {
        "id": "1e2bqskXnTUO"
      },
      "execution_count": null,
      "outputs": []
    },
    {
      "cell_type": "code",
      "source": [
        "tp3 = (1,)"
      ],
      "metadata": {
        "id": "RS9kbXxtnXJV"
      },
      "execution_count": null,
      "outputs": []
    },
    {
      "cell_type": "code",
      "source": [
        "tp3*10"
      ],
      "metadata": {
        "colab": {
          "base_uri": "https://localhost:8080/"
        },
        "id": "8-CZ6dBRnhFW",
        "outputId": "4b39b383-90cc-4ec6-c302-c8e78c015410"
      },
      "execution_count": null,
      "outputs": [
        {
          "output_type": "execute_result",
          "data": {
            "text/plain": [
              "(1, 1, 1, 1, 1, 1, 1, 1, 1, 1)"
            ]
          },
          "metadata": {},
          "execution_count": 19
        }
      ]
    },
    {
      "cell_type": "markdown",
      "source": [
        "# **Tuple Unpacking**"
      ],
      "metadata": {
        "id": "-3MPNef2noka"
      }
    },
    {
      "cell_type": "code",
      "source": [
        "tp1 = (1, 2, 3)"
      ],
      "metadata": {
        "id": "eibMFlZYnqmc"
      },
      "execution_count": null,
      "outputs": []
    },
    {
      "cell_type": "code",
      "source": [
        "a = 1\n",
        "b = 2\n",
        "c = 3"
      ],
      "metadata": {
        "id": "5nAvz0w-nwk8"
      },
      "execution_count": null,
      "outputs": []
    },
    {
      "cell_type": "code",
      "source": [
        "a, b, c = (10, 20, 30)"
      ],
      "metadata": {
        "id": "Zv1yqZjqn0_O"
      },
      "execution_count": null,
      "outputs": []
    },
    {
      "cell_type": "code",
      "source": [
        "b"
      ],
      "metadata": {
        "colab": {
          "base_uri": "https://localhost:8080/"
        },
        "id": "E2G0YHMFn3nZ",
        "outputId": "672dd2d0-f54e-4c71-d512-6dccf8790065"
      },
      "execution_count": null,
      "outputs": [
        {
          "output_type": "execute_result",
          "data": {
            "text/plain": [
              "20"
            ]
          },
          "metadata": {},
          "execution_count": 26
        }
      ]
    },
    {
      "cell_type": "markdown",
      "source": [
        "# **List vs Tuple**"
      ],
      "metadata": {
        "id": "yppRuqskoCko"
      }
    },
    {
      "cell_type": "code",
      "source": [
        "# List - Train - Mutable (add, remove, modify, ..)\n",
        "# Tuple - Bus - Immutable (can't add, can't remove, ..)\n",
        "\n",
        "# List - memory high\n",
        "# Tuple - memory low"
      ],
      "metadata": {
        "id": "2LAP8NykoE0X"
      },
      "execution_count": null,
      "outputs": []
    },
    {
      "cell_type": "markdown",
      "source": [
        "# **Sets**"
      ],
      "metadata": {
        "id": "lQalgnEboih-"
      }
    },
    {
      "cell_type": "code",
      "source": [
        "ls1 = [1, 1, 2]"
      ],
      "metadata": {
        "id": "bZ1Nd59MokT6"
      },
      "execution_count": null,
      "outputs": []
    },
    {
      "cell_type": "code",
      "source": [
        "# unique values in a list\n",
        "set(ls1)"
      ],
      "metadata": {
        "colab": {
          "base_uri": "https://localhost:8080/"
        },
        "id": "5iHek9jLopXl",
        "outputId": "d3e64b42-4957-448c-ac4a-21d878f53ef5"
      },
      "execution_count": null,
      "outputs": [
        {
          "output_type": "execute_result",
          "data": {
            "text/plain": [
              "{1, 2}"
            ]
          },
          "metadata": {},
          "execution_count": 28
        }
      ]
    },
    {
      "cell_type": "code",
      "source": [
        "s1 = {1, 2, 3}"
      ],
      "metadata": {
        "id": "lOeV0D_xow5f"
      },
      "execution_count": null,
      "outputs": []
    },
    {
      "cell_type": "code",
      "source": [
        "s2 = {2, 3, 4}"
      ],
      "metadata": {
        "id": "_ecg3OOaow16"
      },
      "execution_count": null,
      "outputs": []
    },
    {
      "cell_type": "markdown",
      "source": [
        "# **Set Operations**"
      ],
      "metadata": {
        "id": "c804GaxwpCag"
      }
    },
    {
      "cell_type": "code",
      "source": [
        "s1.union(s2)"
      ],
      "metadata": {
        "colab": {
          "base_uri": "https://localhost:8080/"
        },
        "id": "bRY8HRGGowzP",
        "outputId": "649e77c9-deb0-4d10-ca2b-aa9c48782c10"
      },
      "execution_count": null,
      "outputs": [
        {
          "output_type": "execute_result",
          "data": {
            "text/plain": [
              "{1, 2, 3, 4}"
            ]
          },
          "metadata": {},
          "execution_count": 31
        }
      ]
    },
    {
      "cell_type": "code",
      "source": [
        "s1.intersection(s2)"
      ],
      "metadata": {
        "colab": {
          "base_uri": "https://localhost:8080/"
        },
        "id": "OyU0Sjnrowm5",
        "outputId": "a3df6e12-8b89-48b3-c5d4-0a42cb4f40d1"
      },
      "execution_count": null,
      "outputs": [
        {
          "output_type": "execute_result",
          "data": {
            "text/plain": [
              "{2, 3}"
            ]
          },
          "metadata": {},
          "execution_count": 32
        }
      ]
    },
    {
      "cell_type": "code",
      "source": [
        "s1.difference(s2)"
      ],
      "metadata": {
        "colab": {
          "base_uri": "https://localhost:8080/"
        },
        "id": "6R-f9CWWpN1H",
        "outputId": "2f039931-6f91-46dc-dfbf-f769f8bf9209"
      },
      "execution_count": null,
      "outputs": [
        {
          "output_type": "execute_result",
          "data": {
            "text/plain": [
              "{1}"
            ]
          },
          "metadata": {},
          "execution_count": 33
        }
      ]
    },
    {
      "cell_type": "code",
      "source": [
        "s2.difference(s1)"
      ],
      "metadata": {
        "id": "vkLdqkJvpPd7",
        "outputId": "9c3902a9-66ef-405d-a317-d06b761f3401",
        "colab": {
          "base_uri": "https://localhost:8080/"
        }
      },
      "execution_count": null,
      "outputs": [
        {
          "output_type": "execute_result",
          "data": {
            "text/plain": [
              "{4}"
            ]
          },
          "metadata": {},
          "execution_count": 34
        }
      ]
    },
    {
      "cell_type": "code",
      "source": [],
      "metadata": {
        "id": "LN7cy1fYpR5A"
      },
      "execution_count": null,
      "outputs": []
    }
  ]
}